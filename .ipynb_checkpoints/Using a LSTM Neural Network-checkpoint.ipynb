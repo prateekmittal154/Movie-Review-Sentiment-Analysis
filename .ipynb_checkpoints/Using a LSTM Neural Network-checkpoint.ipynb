{
 "cells": [
  {
   "cell_type": "code",
   "execution_count": 53,
   "metadata": {},
   "outputs": [],
   "source": [
    "import tensorflow as tf"
   ]
  },
  {
   "cell_type": "code",
   "execution_count": 54,
   "metadata": {},
   "outputs": [],
   "source": [
    "tf.enable_eager_execution()"
   ]
  },
  {
   "cell_type": "code",
   "execution_count": 55,
   "metadata": {},
   "outputs": [],
   "source": [
    "from tensorflow import keras"
   ]
  },
  {
   "cell_type": "code",
   "execution_count": 68,
   "metadata": {},
   "outputs": [],
   "source": [
    "from tensorflow.keras.datasets import imdb\n",
    "from tensorflow.keras.models import Sequential\n",
    "from tensorflow.keras.layers import Dense\n",
    "from tensorflow.keras.layers import LSTM\n",
    "from tensorflow.keras.layers import Embedding\n",
    "from tensorflow.keras.preprocessing import sequence"
   ]
  },
  {
   "cell_type": "code",
   "execution_count": 69,
   "metadata": {},
   "outputs": [
    {
     "name": "stdout",
     "output_type": "stream",
     "text": [
      "Downloading data from https://storage.googleapis.com/tensorflow/tf-keras-datasets/imdb.npz\n",
      "17465344/17464789 [==============================] - 7s 0us/step\n"
     ]
    }
   ],
   "source": [
    "maximum_words = 5000\n",
    "(X_train, y_train), (X_test, y_test) = imdb.load_data(num_words=maximum_words)"
   ]
  },
  {
   "cell_type": "code",
   "execution_count": 70,
   "metadata": {},
   "outputs": [],
   "source": [
    "max_review = 500\n",
    "X_train = sequence.pad_sequences(X_train, maxlen=max_review)\n",
    "X_test = sequence.pad_sequences(X_test, maxlen=max_review)"
   ]
  },
  {
   "cell_type": "code",
   "execution_count": 73,
   "metadata": {},
   "outputs": [
    {
     "name": "stdout",
     "output_type": "stream",
     "text": [
      "Model: \"sequential_2\"\n",
      "_________________________________________________________________\n",
      "Layer (type)                 Output Shape              Param #   \n",
      "=================================================================\n",
      "embedding (Embedding)        (None, 500, 64)           320000    \n",
      "_________________________________________________________________\n",
      "lstm (LSTM)                  (None, 100)               66000     \n",
      "_________________________________________________________________\n",
      "dense (Dense)                (None, 1)                 101       \n",
      "=================================================================\n",
      "Total params: 386,101\n",
      "Trainable params: 386,101\n",
      "Non-trainable params: 0\n",
      "_________________________________________________________________\n",
      "None\n"
     ]
    }
   ],
   "source": [
    "embedding_vector_length = 64\n",
    "model = Sequential()\n",
    "model.add(Embedding(maximum_words, embedding_vector_length, input_length=max_review))\n",
    "model.add(LSTM(100))\n",
    "model.add(Dense(1, activation='sigmoid'))\n",
    "model.compile(loss='binary_crossentropy', optimizer='adam', metrics=['accuracy'])\n",
    "print(model.summary())"
   ]
  },
  {
   "cell_type": "code",
   "execution_count": 74,
   "metadata": {},
   "outputs": [
    {
     "name": "stdout",
     "output_type": "stream",
     "text": [
      "Train on 25000 samples\n",
      "Epoch 1/15\n",
      "WARNING:tensorflow:From /home/prateek/anaconda3/lib/python3.7/site-packages/tensorflow_core/python/ops/nn_impl.py:183: where (from tensorflow.python.ops.array_ops) is deprecated and will be removed in a future version.\n",
      "Instructions for updating:\n",
      "Use tf.where in 2.0, which has the same broadcast rule as np.where\n"
     ]
    },
    {
     "name": "stderr",
     "output_type": "stream",
     "text": [
      "WARNING:tensorflow:From /home/prateek/anaconda3/lib/python3.7/site-packages/tensorflow_core/python/ops/nn_impl.py:183: where (from tensorflow.python.ops.array_ops) is deprecated and will be removed in a future version.\n",
      "Instructions for updating:\n",
      "Use tf.where in 2.0, which has the same broadcast rule as np.where\n"
     ]
    },
    {
     "name": "stdout",
     "output_type": "stream",
     "text": [
      "WARNING:tensorflow:Entity <function Function._initialize_uninitialized_variables.<locals>.initialize_variables at 0x7f90df105d90> could not be transformed and will be executed as-is. Please report this to the AutoGraph team. When filing the bug, set the verbosity to 10 (on Linux, `export AUTOGRAPH_VERBOSITY=10`) and attach the full output. Cause: No module named 'tensorflow_core.estimator'\n"
     ]
    },
    {
     "name": "stderr",
     "output_type": "stream",
     "text": [
      "WARNING:tensorflow:Entity <function Function._initialize_uninitialized_variables.<locals>.initialize_variables at 0x7f90df105d90> could not be transformed and will be executed as-is. Please report this to the AutoGraph team. When filing the bug, set the verbosity to 10 (on Linux, `export AUTOGRAPH_VERBOSITY=10`) and attach the full output. Cause: No module named 'tensorflow_core.estimator'\n"
     ]
    },
    {
     "name": "stdout",
     "output_type": "stream",
     "text": [
      "WARNING: Entity <function Function._initialize_uninitialized_variables.<locals>.initialize_variables at 0x7f90df105d90> could not be transformed and will be executed as-is. Please report this to the AutoGraph team. When filing the bug, set the verbosity to 10 (on Linux, `export AUTOGRAPH_VERBOSITY=10`) and attach the full output. Cause: No module named 'tensorflow_core.estimator'\n",
      "25000/25000 [==============================] - 277s 11ms/sample - loss: 0.4568 - acc: 0.7826\n",
      "Epoch 2/15\n",
      "25000/25000 [==============================] - 270s 11ms/sample - loss: 0.3112 - acc: 0.8736\n",
      "Epoch 3/15\n",
      "25000/25000 [==============================] - 267s 11ms/sample - loss: 0.2902 - acc: 0.8820\n",
      "Epoch 4/15\n",
      "25000/25000 [==============================] - 307s 12ms/sample - loss: 0.2501 - acc: 0.9015\n",
      "Epoch 5/15\n",
      "25000/25000 [==============================] - 296s 12ms/sample - loss: 0.1955 - acc: 0.9261\n",
      "Epoch 6/15\n",
      "25000/25000 [==============================] - 274s 11ms/sample - loss: 0.1612 - acc: 0.9400\n",
      "Epoch 7/15\n",
      "25000/25000 [==============================] - 325s 13ms/sample - loss: 0.1537 - acc: 0.9424\n",
      "Epoch 8/15\n",
      "25000/25000 [==============================] - 326s 13ms/sample - loss: 0.1438 - acc: 0.9460\n",
      "Epoch 9/15\n",
      "25000/25000 [==============================] - 340s 14ms/sample - loss: 0.1173 - acc: 0.9574\n",
      "Epoch 10/15\n",
      "25000/25000 [==============================] - 355s 14ms/sample - loss: 0.1283 - acc: 0.9522\n",
      "Epoch 11/15\n",
      "25000/25000 [==============================] - 346s 14ms/sample - loss: 0.1109 - acc: 0.9596\n",
      "Epoch 12/15\n",
      "25000/25000 [==============================] - 338s 14ms/sample - loss: 0.0804 - acc: 0.9719\n",
      "Epoch 13/15\n",
      "25000/25000 [==============================] - 269s 11ms/sample - loss: 0.0600 - acc: 0.9804\n",
      "Epoch 14/15\n",
      "25000/25000 [==============================] - 270s 11ms/sample - loss: 0.0579 - acc: 0.9810\n",
      "Epoch 15/15\n",
      "25000/25000 [==============================] - 279s 11ms/sample - loss: 0.0653 - acc: 0.9787\n"
     ]
    },
    {
     "data": {
      "text/plain": [
       "<tensorflow.python.keras.callbacks.History at 0x7f90f0913438>"
      ]
     },
     "execution_count": 74,
     "metadata": {},
     "output_type": "execute_result"
    }
   ],
   "source": [
    "model.fit(X_train, y_train, epochs=15, batch_size=64)"
   ]
  },
  {
   "cell_type": "code",
   "execution_count": 75,
   "metadata": {},
   "outputs": [
    {
     "name": "stdout",
     "output_type": "stream",
     "text": [
      "Model accuracy on the IMDb dataset: 83.66%\n"
     ]
    }
   ],
   "source": [
    "scores = model.evaluate(X_test, y_test, verbose=0)\n",
    "print(\"Model accuracy on the IMDb dataset: {0:.2f}%\".format(scores[1]*100))"
   ]
  }
 ],
 "metadata": {
  "kernelspec": {
   "display_name": "Python 3 (ipykernel)",
   "language": "python",
   "name": "python3"
  },
  "language_info": {
   "codemirror_mode": {
    "name": "ipython",
    "version": 3
   },
   "file_extension": ".py",
   "mimetype": "text/x-python",
   "name": "python",
   "nbconvert_exporter": "python",
   "pygments_lexer": "ipython3",
   "version": "3.7.0"
  }
 },
 "nbformat": 4,
 "nbformat_minor": 2
}
