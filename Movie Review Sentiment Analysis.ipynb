{
 "cells": [
  {
   "cell_type": "code",
   "execution_count": 151,
   "metadata": {
    "scrolled": true
   },
   "outputs": [
    {
     "name": "stdout",
     "output_type": "stream",
     "text": [
      "[nltk_data] Downloading package stopwords to\n",
      "[nltk_data]     /home/prateek/nltk_data...\n",
      "[nltk_data]   Package stopwords is already up-to-date!\n",
      "[nltk_data] Downloading package punkt to /home/prateek/nltk_data...\n",
      "[nltk_data]   Package punkt is already up-to-date!\n"
     ]
    },
    {
     "data": {
      "text/plain": [
       "True"
      ]
     },
     "execution_count": 151,
     "metadata": {},
     "output_type": "execute_result"
    }
   ],
   "source": [
    "import sklearn\n",
    "import nltk\n",
    "nltk.download('stopwords')\n",
    "nltk.download('punkt')"
   ]
  },
  {
   "cell_type": "code",
   "execution_count": 152,
   "metadata": {},
   "outputs": [],
   "source": [
    "import pandas as pd\n",
    "import numpy as np\n",
    "import re\n",
    "from nltk.corpus import stopwords\n",
    "from nltk.tokenize import word_tokenize\n",
    "from nltk.stem import SnowballStemmer\n",
    "from sklearn.feature_extraction.text import CountVectorizer\n",
    "from sklearn.model_selection import train_test_split\n",
    "from sklearn.naive_bayes import GaussianNB,MultinomialNB,BernoulliNB\n",
    "from sklearn.metrics import accuracy_score\n",
    "import pickle"
   ]
  },
  {
   "cell_type": "code",
   "execution_count": 153,
   "metadata": {},
   "outputs": [],
   "source": [
    "url='https://github.com/prateekmittal154/Movie-Review-Sentiment-Analysis/blob/main/IMDB-Dataset.csv?raw=true'"
   ]
  },
  {
   "cell_type": "code",
   "execution_count": 154,
   "metadata": {},
   "outputs": [
    {
     "name": "stdout",
     "output_type": "stream",
     "text": [
      "(50000, 2)\n"
     ]
    },
    {
     "data": {
      "text/html": [
       "<div>\n",
       "<style scoped>\n",
       "    .dataframe tbody tr th:only-of-type {\n",
       "        vertical-align: middle;\n",
       "    }\n",
       "\n",
       "    .dataframe tbody tr th {\n",
       "        vertical-align: top;\n",
       "    }\n",
       "\n",
       "    .dataframe thead th {\n",
       "        text-align: right;\n",
       "    }\n",
       "</style>\n",
       "<table border=\"1\" class=\"dataframe\">\n",
       "  <thead>\n",
       "    <tr style=\"text-align: right;\">\n",
       "      <th></th>\n",
       "      <th>review</th>\n",
       "      <th>sentiment</th>\n",
       "    </tr>\n",
       "  </thead>\n",
       "  <tbody>\n",
       "    <tr>\n",
       "      <th>0</th>\n",
       "      <td>One of the other reviewers has mentioned that ...</td>\n",
       "      <td>positive</td>\n",
       "    </tr>\n",
       "    <tr>\n",
       "      <th>1</th>\n",
       "      <td>A wonderful little production. &lt;br /&gt;&lt;br /&gt;The...</td>\n",
       "      <td>positive</td>\n",
       "    </tr>\n",
       "    <tr>\n",
       "      <th>2</th>\n",
       "      <td>I thought this was a wonderful way to spend ti...</td>\n",
       "      <td>positive</td>\n",
       "    </tr>\n",
       "    <tr>\n",
       "      <th>3</th>\n",
       "      <td>Basically there's a family where a little boy ...</td>\n",
       "      <td>negative</td>\n",
       "    </tr>\n",
       "    <tr>\n",
       "      <th>4</th>\n",
       "      <td>Petter Mattei's \"Love in the Time of Money\" is...</td>\n",
       "      <td>positive</td>\n",
       "    </tr>\n",
       "  </tbody>\n",
       "</table>\n",
       "</div>"
      ],
      "text/plain": [
       "                                              review sentiment\n",
       "0  One of the other reviewers has mentioned that ...  positive\n",
       "1  A wonderful little production. <br /><br />The...  positive\n",
       "2  I thought this was a wonderful way to spend ti...  positive\n",
       "3  Basically there's a family where a little boy ...  negative\n",
       "4  Petter Mattei's \"Love in the Time of Money\" is...  positive"
      ]
     },
     "execution_count": 154,
     "metadata": {},
     "output_type": "execute_result"
    }
   ],
   "source": [
    "dataset= pd.read_csv('IMDB-Dataset.csv')\n",
    "print(dataset.shape)\n",
    "dataset.head()"
   ]
  },
  {
   "cell_type": "code",
   "execution_count": 155,
   "metadata": {},
   "outputs": [
    {
     "name": "stdout",
     "output_type": "stream",
     "text": [
      "<class 'pandas.core.frame.DataFrame'>\n",
      "RangeIndex: 50000 entries, 0 to 49999\n",
      "Data columns (total 2 columns):\n",
      " #   Column     Non-Null Count  Dtype \n",
      "---  ------     --------------  ----- \n",
      " 0   review     50000 non-null  object\n",
      " 1   sentiment  50000 non-null  object\n",
      "dtypes: object(2)\n",
      "memory usage: 781.4+ KB\n"
     ]
    }
   ],
   "source": [
    "dataset.info()"
   ]
  },
  {
   "cell_type": "code",
   "execution_count": 156,
   "metadata": {},
   "outputs": [
    {
     "data": {
      "text/plain": [
       "negative    25000\n",
       "positive    25000\n",
       "Name: sentiment, dtype: int64"
      ]
     },
     "execution_count": 156,
     "metadata": {},
     "output_type": "execute_result"
    }
   ],
   "source": [
    "dataset.sentiment.value_counts()"
   ]
  },
  {
   "cell_type": "code",
   "execution_count": 157,
   "metadata": {},
   "outputs": [],
   "source": [
    "dataset.sentiment.replace('positive', 1, inplace=True)\n",
    "dataset.sentiment.replace('negative', 0, inplace=True)"
   ]
  },
  {
   "cell_type": "code",
   "execution_count": 158,
   "metadata": {},
   "outputs": [
    {
     "data": {
      "text/plain": [
       "\"one of the other reviewers has mentioned that after watching just 1 oz episode you'll be hooked. they are right, as this is exactly what happened with me.<br /><br />the first thing that struck me about oz was its brutality and unflinching scenes of violence, which set in right from the word go. trust me, this is not a show for the faint hearted or timid. this show pulls no punches with regards to drugs, sex or violence. its is hardcore, in the classic use of the word.<br /><br />it is called oz as that is the nickname given to the oswald maximum security state penitentary. it focuses mainly on emerald city, an experimental section of the prison where all the cells have glass fronts and face inwards, so privacy is not high on the agenda. em city is home to many..aryans, muslims, gangstas, latinos, christians, italians, irish and more....so scuffles, death stares, dodgy dealings and shady agreements are never far away.<br /><br />i would say the main appeal of the show is due to the fact that it goes where other shows wouldn't dare. forget pretty pictures painted for mainstream audiences, forget charm, forget romance...oz doesn't mess around. the first episode i ever saw struck me as so nasty it was surreal, i couldn't say i was ready for it, but as i watched more, i developed a taste for oz, and got accustomed to the high levels of graphic violence. not just violence, but injustice (crooked guards who'll be sold out for a nickel, inmates who'll kill on order and get away with it, well mannered, middle class inmates being turned into prison bitches due to their lack of street skills or prison experience) watching oz, you may become comfortable with what is uncomfortable viewing....thats if you can get in touch with your darker side.\""
      ]
     },
     "execution_count": 158,
     "metadata": {},
     "output_type": "execute_result"
    }
   ],
   "source": [
    "def to_lower(text):\n",
    "    return text.lower()\n",
    "\n",
    "dataset.review = dataset.review.apply(to_lower)\n",
    "dataset.review[0]\n"
   ]
  },
  {
   "cell_type": "code",
   "execution_count": 159,
   "metadata": {},
   "outputs": [
    {
     "data": {
      "text/plain": [
       "\"one of the other reviewers has mentioned that after watching just 1 oz episode you'll be hooked. they are right, as this is exactly what happened with me.the first thing that struck me about oz was its brutality and unflinching scenes of violence, which set in right from the word go. trust me, this is not a show for the faint hearted or timid. this show pulls no punches with regards to drugs, sex or violence. its is hardcore, in the classic use of the word.it is called oz as that is the nickname given to the oswald maximum security state penitentary. it focuses mainly on emerald city, an experimental section of the prison where all the cells have glass fronts and face inwards, so privacy is not high on the agenda. em city is home to many..aryans, muslims, gangstas, latinos, christians, italians, irish and more....so scuffles, death stares, dodgy dealings and shady agreements are never far away.i would say the main appeal of the show is due to the fact that it goes where other shows wouldn't dare. forget pretty pictures painted for mainstream audiences, forget charm, forget romance...oz doesn't mess around. the first episode i ever saw struck me as so nasty it was surreal, i couldn't say i was ready for it, but as i watched more, i developed a taste for oz, and got accustomed to the high levels of graphic violence. not just violence, but injustice (crooked guards who'll be sold out for a nickel, inmates who'll kill on order and get away with it, well mannered, middle class inmates being turned into prison bitches due to their lack of street skills or prison experience) watching oz, you may become comfortable with what is uncomfortable viewing....thats if you can get in touch with your darker side.\""
      ]
     },
     "execution_count": 159,
     "metadata": {},
     "output_type": "execute_result"
    }
   ],
   "source": [
    "def clean(text):\n",
    "    cleaned = re.compile(r'<.*?>')\n",
    "    return re.sub(cleaned,'',text)\n",
    "\n",
    "dataset.review = dataset.review.apply(clean)\n",
    "dataset.review[0]"
   ]
  },
  {
   "cell_type": "code",
   "execution_count": 160,
   "metadata": {},
   "outputs": [
    {
     "data": {
      "text/plain": [
       "'one of the other reviewers has mentioned that after watching just 1 oz episode you ll be hooked  they are right  as this is exactly what happened with me the first thing that struck me about oz was its brutality and unflinching scenes of violence  which set in right from the word go  trust me  this is not a show for the faint hearted or timid  this show pulls no punches with regards to drugs  sex or violence  its is hardcore  in the classic use of the word it is called oz as that is the nickname given to the oswald maximum security state penitentary  it focuses mainly on emerald city  an experimental section of the prison where all the cells have glass fronts and face inwards  so privacy is not high on the agenda  em city is home to many  aryans  muslims  gangstas  latinos  christians  italians  irish and more    so scuffles  death stares  dodgy dealings and shady agreements are never far away i would say the main appeal of the show is due to the fact that it goes where other shows wouldn t dare  forget pretty pictures painted for mainstream audiences  forget charm  forget romance   oz doesn t mess around  the first episode i ever saw struck me as so nasty it was surreal  i couldn t say i was ready for it  but as i watched more  i developed a taste for oz  and got accustomed to the high levels of graphic violence  not just violence  but injustice  crooked guards who ll be sold out for a nickel  inmates who ll kill on order and get away with it  well mannered  middle class inmates being turned into prison bitches due to their lack of street skills or prison experience  watching oz  you may become comfortable with what is uncomfortable viewing    thats if you can get in touch with your darker side '"
      ]
     },
     "execution_count": 160,
     "metadata": {},
     "output_type": "execute_result"
    }
   ],
   "source": [
    "def is_special(text):\n",
    "    rem = ''\n",
    "    for i in text:\n",
    "        if i.isalnum():\n",
    "            rem = rem + i\n",
    "        else:\n",
    "            rem = rem + ' '\n",
    "    return rem\n",
    "\n",
    "dataset.review = dataset.review.apply(is_special)\n",
    "dataset.review[0]\n"
   ]
  },
  {
   "cell_type": "code",
   "execution_count": 161,
   "metadata": {},
   "outputs": [
    {
     "data": {
      "text/plain": [
       "['pete',\n",
       " 'meteor',\n",
       " 'seen',\n",
       " 'referred',\n",
       " 'authentic',\n",
       " 'gem',\n",
       " 'caught',\n",
       " 'movie',\n",
       " 'saturday',\n",
       " 'afternoon',\n",
       " 'kinda',\n",
       " 'wished',\n",
       " 'apparently',\n",
       " 'noted',\n",
       " 'mike',\n",
       " 'myers',\n",
       " 'first',\n",
       " 'dramatic',\n",
       " 'role',\n",
       " 'unfortunately',\n",
       " 'movie',\n",
       " 'first',\n",
       " 'thing',\n",
       " 'notice',\n",
       " 'pete',\n",
       " 'meteor',\n",
       " 'suffers',\n",
       " 'complete',\n",
       " 'lack',\n",
       " 'plot',\n",
       " 'rather',\n",
       " 'bunch',\n",
       " 'little',\n",
       " 'subplots',\n",
       " 'really',\n",
       " 'connected',\n",
       " 'go',\n",
       " 'anywhere',\n",
       " 'young',\n",
       " 'orphan',\n",
       " 'mickey',\n",
       " 'lives',\n",
       " 'younger',\n",
       " 'brother',\n",
       " 'sister',\n",
       " 'grandmother',\n",
       " 'meteorite',\n",
       " 'lands',\n",
       " 'garden',\n",
       " 'eventually',\n",
       " 'collected',\n",
       " 'scientist',\n",
       " 'named',\n",
       " 'hugh',\n",
       " 'despite',\n",
       " 'title',\n",
       " 'movie',\n",
       " 'mickey',\n",
       " 'one',\n",
       " 'lays',\n",
       " 'claim',\n",
       " 'meteor',\n",
       " 'storyline',\n",
       " 'actually',\n",
       " 'little',\n",
       " 'meteor',\n",
       " 'shape',\n",
       " 'form',\n",
       " 'several',\n",
       " 'characters',\n",
       " 'subplots',\n",
       " 'introduced',\n",
       " 'like',\n",
       " 'said',\n",
       " 'really',\n",
       " 'go',\n",
       " 'anywhere',\n",
       " 'things',\n",
       " 'go',\n",
       " 'cute',\n",
       " 'family',\n",
       " 'movie',\n",
       " 'dark',\n",
       " 'thriller',\n",
       " 'pretty',\n",
       " 'fast',\n",
       " 'pete',\n",
       " 'mike',\n",
       " 'myers',\n",
       " 'introduced',\n",
       " 'starts',\n",
       " 'play',\n",
       " 'role',\n",
       " 'micky',\n",
       " 'blames',\n",
       " 'death',\n",
       " 'parents',\n",
       " 'though',\n",
       " 'never',\n",
       " 'really',\n",
       " 'told',\n",
       " 'happened',\n",
       " 'hugh',\n",
       " 'romance',\n",
       " 'problems',\n",
       " 'girlfriend',\n",
       " 'get',\n",
       " 'past',\n",
       " 'cosmic',\n",
       " 'fascination',\n",
       " 'pete',\n",
       " 'drug',\n",
       " 'related',\n",
       " 'past',\n",
       " 'starts',\n",
       " 'catch',\n",
       " 'temporarily',\n",
       " 'draws',\n",
       " 'girlfriend',\n",
       " 'rest',\n",
       " 'cast',\n",
       " 'mix',\n",
       " 'shady',\n",
       " 'characters',\n",
       " 'start',\n",
       " 'trying',\n",
       " 'kill',\n",
       " 'would',\n",
       " 'seem',\n",
       " 'main',\n",
       " 'plot',\n",
       " 'realize',\n",
       " 'even',\n",
       " 'role',\n",
       " 'halfway',\n",
       " 'film',\n",
       " 'making',\n",
       " 'everything',\n",
       " 'else',\n",
       " 'feel',\n",
       " 'like',\n",
       " 'pointless',\n",
       " 'filler',\n",
       " 'hugh',\n",
       " 'girl',\n",
       " 'problems',\n",
       " 'mickey',\n",
       " 'bad',\n",
       " 'behavior',\n",
       " 'meteor',\n",
       " 'earth',\n",
       " 'much',\n",
       " 'plot',\n",
       " 'disjointed',\n",
       " 'half',\n",
       " 'pointless',\n",
       " 'good',\n",
       " 'cast',\n",
       " 'characters',\n",
       " 'save',\n",
       " 'right',\n",
       " 'keyword',\n",
       " 'good',\n",
       " 'majority',\n",
       " 'characters',\n",
       " 'terribly',\n",
       " 'unlikable',\n",
       " 'people',\n",
       " 'like',\n",
       " 'see',\n",
       " 'die',\n",
       " 'horribly',\n",
       " 'least',\n",
       " 'know',\n",
       " 'would',\n",
       " 'despite',\n",
       " 'title',\n",
       " 'mickey',\n",
       " 'seems',\n",
       " 'main',\n",
       " 'character',\n",
       " 'really',\n",
       " 'bad',\n",
       " 'move',\n",
       " 'see',\n",
       " 'action',\n",
       " 'one',\n",
       " 'worst',\n",
       " 'little',\n",
       " 'kids',\n",
       " 'seen',\n",
       " 'movie',\n",
       " 'extremely',\n",
       " 'bad',\n",
       " 'attitude',\n",
       " 'problem',\n",
       " 'borrows',\n",
       " 'car',\n",
       " 'harasses',\n",
       " 'talks',\n",
       " 'trash',\n",
       " 'hugh',\n",
       " 'adult',\n",
       " 'taking',\n",
       " 'meteor',\n",
       " 'actually',\n",
       " 'attempts',\n",
       " 'burn',\n",
       " 'man',\n",
       " 'house',\n",
       " 'get',\n",
       " 'way',\n",
       " 'even',\n",
       " 'tries',\n",
       " 'stab',\n",
       " 'pete',\n",
       " 'knife',\n",
       " 'think',\n",
       " 'kid',\n",
       " 'like',\n",
       " 'way',\n",
       " 'jail',\n",
       " 'house',\n",
       " 'unfortunately',\n",
       " 'one',\n",
       " 'worst',\n",
       " 'things',\n",
       " 'movie',\n",
       " 'mickey',\n",
       " 'never',\n",
       " 'gets',\n",
       " 'coming',\n",
       " 'sure',\n",
       " 'point',\n",
       " 'supposed',\n",
       " 'sympathizing',\n",
       " 'character',\n",
       " 'always',\n",
       " 'nasty',\n",
       " 'little',\n",
       " 'brat',\n",
       " 'ringleader',\n",
       " 'brother',\n",
       " 'sister',\n",
       " 'predictably',\n",
       " 'end',\n",
       " 'taking',\n",
       " 'backseat',\n",
       " 'following',\n",
       " 'whatever',\n",
       " 'amazingly',\n",
       " 'pushed',\n",
       " 'back',\n",
       " 'far',\n",
       " 'even',\n",
       " 'remember',\n",
       " 'names',\n",
       " 'might',\n",
       " 'well',\n",
       " 'even',\n",
       " 'grandmother',\n",
       " 'pretty',\n",
       " 'much',\n",
       " 'borderline',\n",
       " 'alcoholic',\n",
       " 'tends',\n",
       " 'nasty',\n",
       " 'hugh',\n",
       " 'mickey',\n",
       " 'likes',\n",
       " 'push',\n",
       " 'people',\n",
       " 'house',\n",
       " 'give',\n",
       " 'evil',\n",
       " 'glares',\n",
       " 'chugging',\n",
       " 'liquor',\n",
       " 'bottles',\n",
       " 'drinking',\n",
       " 'silly',\n",
       " 'pretty',\n",
       " 'ridiculous',\n",
       " 'take',\n",
       " 'account',\n",
       " 'supposed',\n",
       " 'taking',\n",
       " 'care',\n",
       " 'three',\n",
       " 'children',\n",
       " 'issues',\n",
       " 'alcohol',\n",
       " 'never',\n",
       " 'really',\n",
       " 'addressed',\n",
       " 'though',\n",
       " 'collapse',\n",
       " 'time',\n",
       " 'time',\n",
       " 'movie',\n",
       " 'hugh',\n",
       " 'one',\n",
       " 'likable',\n",
       " 'characters',\n",
       " 'movie',\n",
       " 'punching',\n",
       " 'bag',\n",
       " 'majority',\n",
       " 'characters',\n",
       " 'takes',\n",
       " 'mess',\n",
       " 'without',\n",
       " 'giving',\n",
       " 'back',\n",
       " 'kids',\n",
       " 'treat',\n",
       " 'nastily',\n",
       " 'always',\n",
       " 'comes',\n",
       " 'back',\n",
       " 'tries',\n",
       " 'teach',\n",
       " 'nice',\n",
       " 'things',\n",
       " 'got',\n",
       " 'taxi',\n",
       " 'driver',\n",
       " 'girlfriend',\n",
       " 'seems',\n",
       " 'take',\n",
       " 'every',\n",
       " 'aspect',\n",
       " 'life',\n",
       " 'scientist',\n",
       " 'personal',\n",
       " 'offense',\n",
       " 'attempting',\n",
       " 'leave',\n",
       " 'several',\n",
       " 'times',\n",
       " 'movie',\n",
       " 'goes',\n",
       " 'cosmic',\n",
       " 'lingo',\n",
       " 'something',\n",
       " 'prove',\n",
       " 'exactly',\n",
       " 'wavelength',\n",
       " 'rest',\n",
       " 'characters',\n",
       " 'thankfully',\n",
       " 'mike',\n",
       " 'myers',\n",
       " 'pete',\n",
       " 'pete',\n",
       " 'despite',\n",
       " 'solid',\n",
       " 'purpose',\n",
       " 'plot',\n",
       " 'movie',\n",
       " 'extremely',\n",
       " 'underused',\n",
       " 'play',\n",
       " 'kind',\n",
       " 'role',\n",
       " 'second',\n",
       " 'half',\n",
       " 'unfortunate',\n",
       " 'myers',\n",
       " 'got',\n",
       " 'stuck',\n",
       " 'position',\n",
       " 'dramatic',\n",
       " 'role',\n",
       " 'even',\n",
       " 'pete',\n",
       " 'getting',\n",
       " 'screen',\n",
       " 'time',\n",
       " 'half',\n",
       " 'myers',\n",
       " 'running',\n",
       " 'dark',\n",
       " 'alleys',\n",
       " 'hiding',\n",
       " 'small',\n",
       " 'corners',\n",
       " 'even',\n",
       " 'though',\n",
       " 'real',\n",
       " 'point',\n",
       " 'movie',\n",
       " 'plot',\n",
       " 'line',\n",
       " 'brings',\n",
       " 'movie',\n",
       " 'close',\n",
       " 'strange',\n",
       " 'unfulfilling',\n",
       " 'conclusion',\n",
       " 'characters',\n",
       " 'laughing',\n",
       " 'good',\n",
       " 'note',\n",
       " 'quick',\n",
       " 'strange',\n",
       " 'explanation',\n",
       " 'behind',\n",
       " 'title',\n",
       " 'movie',\n",
       " 'making',\n",
       " 'wonder',\n",
       " 'performing',\n",
       " 'movie',\n",
       " 'watching',\n",
       " 'thing',\n",
       " 'worth',\n",
       " 'seeing',\n",
       " 'pete',\n",
       " 'meteor',\n",
       " 'mike',\n",
       " 'myers',\n",
       " 'role',\n",
       " 'pete',\n",
       " 'wade',\n",
       " 'disjointed',\n",
       " 'mess',\n",
       " 'long',\n",
       " 'enough',\n",
       " 'without',\n",
       " 'lashing',\n",
       " 'another',\n",
       " 'human',\n",
       " 'due',\n",
       " 'extremely',\n",
       " 'unlikable',\n",
       " 'characters',\n",
       " 'nonexistent',\n",
       " 'plot',\n",
       " 'line',\n",
       " 'sir',\n",
       " 'like',\n",
       " 'one']"
      ]
     },
     "execution_count": 161,
     "metadata": {},
     "output_type": "execute_result"
    }
   ],
   "source": [
    "def rem_stopwords(text):\n",
    "    stop_words = set(stopwords.words('english'))\n",
    "    words = word_tokenize(text)\n",
    "    return [w for w in words if w not in stop_words]\n",
    "\n",
    "data.review = data.review.apply(rem_stopwords)\n",
    "data.review[0]"
   ]
  },
  {
   "cell_type": "code",
   "execution_count": 162,
   "metadata": {},
   "outputs": [
    {
     "data": {
      "text/plain": [
       "'pete meteor seen refer authent gem caught movi saturday afternoon kinda wish appar note mike myer first dramat role unfortun movi first thing notic pete meteor suffer complet lack plot rather bunch littl subplot realli connect go anywher young orphan mickey live younger brother sister grandmoth meteorit land garden eventu collect scientist name hugh despit titl movi mickey one lay claim meteor storylin actual littl meteor shape form sever charact subplot introduc like said realli go anywher thing go cute famili movi dark thriller pretti fast pete mike myer introduc start play role micki blame death parent though never realli told happen hugh romanc problem girlfriend get past cosmic fascin pete drug relat past start catch temporarili draw girlfriend rest cast mix shadi charact start tri kill would seem main plot realiz even role halfway film make everyth els feel like pointless filler hugh girl problem mickey bad behavior meteor earth much plot disjoint half pointless good cast charact save right keyword good major charact terribl unlik peopl like see die horribl least know would despit titl mickey seem main charact realli bad move see action one worst littl kid seen movi extrem bad attitud problem borrow car harass talk trash hugh adult take meteor actual attempt burn man hous get way even tri stab pete knife think kid like way jail hous unfortun one worst thing movi mickey never get come sure point suppos sympath charact alway nasti littl brat ringlead brother sister predict end take backseat follow whatev amaz push back far even rememb name might well even grandmoth pretti much borderlin alcohol tend nasti hugh mickey like push peopl hous give evil glare chug liquor bottl drink silli pretti ridicul take account suppos take care three children issu alcohol never realli address though collaps time time movi hugh one likabl charact movi punch bag major charact take mess without give back kid treat nastili alway come back tri teach nice thing got taxi driver girlfriend seem take everi aspect life scientist person offens attempt leav sever time movi goe cosmic lingo someth prove exact wavelength rest charact thank mike myer pete pete despit solid purpos plot movi extrem underus play kind role second half unfortun myer got stuck posit dramat role even pete get screen time half myer run dark alley hide small corner even though real point movi plot line bring movi close strang unfulfil conclus charact laugh good note quick strang explan behind titl movi make wonder perform movi watch thing worth see pete meteor mike myer role pete wade disjoint mess long enough without lash anoth human due extrem unlik charact nonexist plot line sir like one'"
      ]
     },
     "execution_count": 162,
     "metadata": {},
     "output_type": "execute_result"
    }
   ],
   "source": [
    "def stem_txt(text):\n",
    "    ss = SnowballStemmer('english')\n",
    "    return \" \".join([ss.stem(w) for w in text])\n",
    "\n",
    "data.review = data.review.apply(stem_txt)\n",
    "data.review[0]"
   ]
  },
  {
   "cell_type": "code",
   "execution_count": 163,
   "metadata": {},
   "outputs": [
    {
     "data": {
      "text/html": [
       "<div>\n",
       "<style scoped>\n",
       "    .dataframe tbody tr th:only-of-type {\n",
       "        vertical-align: middle;\n",
       "    }\n",
       "\n",
       "    .dataframe tbody tr th {\n",
       "        vertical-align: top;\n",
       "    }\n",
       "\n",
       "    .dataframe thead th {\n",
       "        text-align: right;\n",
       "    }\n",
       "</style>\n",
       "<table border=\"1\" class=\"dataframe\">\n",
       "  <thead>\n",
       "    <tr style=\"text-align: right;\">\n",
       "      <th></th>\n",
       "      <th>review</th>\n",
       "      <th>sentiment</th>\n",
       "    </tr>\n",
       "  </thead>\n",
       "  <tbody>\n",
       "    <tr>\n",
       "      <th>0</th>\n",
       "      <td>pete meteor seen refer authent gem caught movi...</td>\n",
       "      <td>0</td>\n",
       "    </tr>\n",
       "    <tr>\n",
       "      <th>1</th>\n",
       "      <td>cast realli help make pleasant surpris cut nor...</td>\n",
       "      <td>1</td>\n",
       "    </tr>\n",
       "    <tr>\n",
       "      <th>2</th>\n",
       "      <td>download movi yesterday internet site qualiti ...</td>\n",
       "      <td>0</td>\n",
       "    </tr>\n",
       "    <tr>\n",
       "      <th>3</th>\n",
       "      <td>point film becom bad good compel aw darkhunt s...</td>\n",
       "      <td>0</td>\n",
       "    </tr>\n",
       "    <tr>\n",
       "      <th>4</th>\n",
       "      <td>rate tv 14 sexual content languag rememb hear ...</td>\n",
       "      <td>1</td>\n",
       "    </tr>\n",
       "  </tbody>\n",
       "</table>\n",
       "</div>"
      ],
      "text/plain": [
       "                                              review  sentiment\n",
       "0  pete meteor seen refer authent gem caught movi...          0\n",
       "1  cast realli help make pleasant surpris cut nor...          1\n",
       "2  download movi yesterday internet site qualiti ...          0\n",
       "3  point film becom bad good compel aw darkhunt s...          0\n",
       "4  rate tv 14 sexual content languag rememb hear ...          1"
      ]
     },
     "execution_count": 163,
     "metadata": {},
     "output_type": "execute_result"
    }
   ],
   "source": [
    "data.head()"
   ]
  },
  {
   "cell_type": "code",
   "execution_count": 164,
   "metadata": {},
   "outputs": [
    {
     "name": "stdout",
     "output_type": "stream",
     "text": [
      "Data for Modeling: (47500, 2)\n",
      "Unseen Data For Predictions: (2500, 2)\n"
     ]
    }
   ],
   "source": [
    "# sample 5% of data to be used as unseen data\n",
    "\n",
    "data = dataset.sample(frac=0.95, random_state=786)\n",
    "data_unseen = dataset.drop(data.index)\n",
    "data.reset_index(inplace=True, drop=True)\n",
    "data_unseen.reset_index(inplace=True, drop=True)\n",
    "\n",
    "\n",
    "# print the revised shape\n",
    "print('Data for Modeling: ' + str(data.shape))\n",
    "print('Unseen Data For Predictions: ' + str(data_unseen.shape))\n"
   ]
  },
  {
   "cell_type": "code",
   "execution_count": 165,
   "metadata": {},
   "outputs": [
    {
     "name": "stdout",
     "output_type": "stream",
     "text": [
      "X.shape =  (47500, 1000)\n",
      "y.shape =  (47500,)\n"
     ]
    }
   ],
   "source": [
    "X = np.array(data.iloc[:,0].values)\n",
    "y = np.array(data.sentiment.values)\n",
    "cv = CountVectorizer(max_features=1000)\n",
    "X = cv.fit_transform(data.review).toarray()\n",
    "print(\"X.shape = \",X.shape)\n",
    "print(\"y.shape = \",y.shape)"
   ]
  },
  {
   "cell_type": "code",
   "execution_count": 166,
   "metadata": {},
   "outputs": [
    {
     "name": "stdout",
     "output_type": "stream",
     "text": [
      "Train shapes : trainx = (47500, 1000), trainy = (47500,)\n"
     ]
    }
   ],
   "source": [
    "trainx = X\n",
    "trainy = y\n",
    "\n",
    "print(\"Train shapes : trainx = {}, trainy = {}\".format(trainx.shape,trainy.shape))"
   ]
  },
  {
   "cell_type": "code",
   "execution_count": 167,
   "metadata": {},
   "outputs": [
    {
     "name": "stdout",
     "output_type": "stream",
     "text": [
      "X1.shape=  (2500, 1000)\n",
      "y1.shape=  (2500,)\n"
     ]
    }
   ],
   "source": [
    "X1= np.array(data_unseen.iloc[:,0].values)\n",
    "y1 = np.array(data_unseen.sentiment.values)\n",
    "cv= CountVectorizer(max_features=1000)\n",
    "X1=cv.fit_transform(data_unseen.review).toarray()\n",
    "print(\"X1.shape= \", X1.shape)\n",
    "print(\"y1.shape= \", y1.shape)"
   ]
  },
  {
   "cell_type": "code",
   "execution_count": 168,
   "metadata": {},
   "outputs": [
    {
     "name": "stdout",
     "output_type": "stream",
     "text": [
      "Test shapes : testx = (2500, 1000), testy = (2500,)\n"
     ]
    }
   ],
   "source": [
    "testx = X1\n",
    "testy = y1\n",
    "\n",
    "print(\"Test shapes : testx = {}, testy = {}\".format(testx.shape,testy.shape))"
   ]
  },
  {
   "cell_type": "code",
   "execution_count": null,
   "metadata": {},
   "outputs": [],
   "source": []
  },
  {
   "cell_type": "code",
   "execution_count": 169,
   "metadata": {},
   "outputs": [
    {
     "data": {
      "text/plain": [
       "GaussianNB()"
      ]
     },
     "execution_count": 169,
     "metadata": {},
     "output_type": "execute_result"
    }
   ],
   "source": [
    "gnb = GaussianNB()\n",
    "gnb.fit(trainx, trainy)"
   ]
  },
  {
   "cell_type": "code",
   "execution_count": 170,
   "metadata": {},
   "outputs": [
    {
     "name": "stdout",
     "output_type": "stream",
     "text": [
      "Gaussian =  0.5636\n"
     ]
    }
   ],
   "source": [
    "ypg = gnb.predict(testx)\n",
    "\n",
    "\n",
    "print(\"Gaussian = \",accuracy_score(testy,ypg))\n"
   ]
  },
  {
   "cell_type": "code",
   "execution_count": 183,
   "metadata": {},
   "outputs": [
    {
     "name": "stdout",
     "output_type": "stream",
     "text": [
      "[[696 558]\n",
      " [533 713]]\n"
     ]
    }
   ],
   "source": [
    "from sklearn.metrics import confusion_matrix\n",
    "\n",
    "cm = confusion_matrix(testy,ypg)\n",
    "\n",
    "print(cm)"
   ]
  },
  {
   "cell_type": "code",
   "execution_count": 172,
   "metadata": {},
   "outputs": [
    {
     "name": "stdout",
     "output_type": "stream",
     "text": [
      "Multinomial =  0.592\n"
     ]
    }
   ],
   "source": [
    "mnb= MultinomialNB(alpha=1.0,fit_prior=True)\n",
    "mnb.fit(trainx, trainy)\n",
    "\n",
    "ypm= mnb.predict(testx)\n",
    "\n",
    "print(\"Multinomial = \", accuracy_score(testy, ypm))"
   ]
  },
  {
   "cell_type": "code",
   "execution_count": 186,
   "metadata": {},
   "outputs": [
    {
     "name": "stdout",
     "output_type": "stream",
     "text": [
      "[[926 328]\n",
      " [692 554]]\n"
     ]
    }
   ],
   "source": [
    "from sklearn.metrics import confusion_matrix\n",
    "\n",
    "cm1 = confusion_matrix(testy,ypm)\n",
    "\n",
    "print(cm1)"
   ]
  },
  {
   "cell_type": "code",
   "execution_count": 174,
   "metadata": {},
   "outputs": [
    {
     "data": {
      "text/plain": [
       "BernoulliNB()"
      ]
     },
     "execution_count": 174,
     "metadata": {},
     "output_type": "execute_result"
    }
   ],
   "source": [
    "bnb= BernoulliNB(alpha=1.0,fit_prior=True)\n",
    "bnb.fit(trainx, trainy)"
   ]
  },
  {
   "cell_type": "code",
   "execution_count": 177,
   "metadata": {},
   "outputs": [
    {
     "name": "stdout",
     "output_type": "stream",
     "text": [
      "Bernoulli =  0.6108\n"
     ]
    }
   ],
   "source": [
    "ypb= bnb.predict(testx)\n",
    "\n",
    "print(\"Bernoulli = \", accuracy_score(testy, ypb))"
   ]
  },
  {
   "cell_type": "code",
   "execution_count": 184,
   "metadata": {},
   "outputs": [
    {
     "name": "stdout",
     "output_type": "stream",
     "text": [
      "[[625 629]\n",
      " [344 902]]\n"
     ]
    }
   ],
   "source": [
    "from sklearn.metrics import confusion_matrix\n",
    "\n",
    "cm2 = confusion_matrix(testy,ypb)\n",
    "\n",
    "print(cm2)"
   ]
  },
  {
   "cell_type": "code",
   "execution_count": 187,
   "metadata": {},
   "outputs": [],
   "source": [
    "pickle.dump(bnb,open('model1.pkl','wb'))"
   ]
  },
  {
   "cell_type": "code",
   "execution_count": 188,
   "metadata": {},
   "outputs": [],
   "source": [
    "rev =  \"\"\"Terrible. Complete trash. Brainless tripe. Insulting to anyone who isn't an 8 year old fan boy. Im actually pretty disgusted that this movie is making the money it is - what does it say about the people who brainlessly hand over the hard earned cash to be 'entertained' in this fashion and then come here to leave a positive 8.8 review?? Oh yes, they are morons. Its the only sensible conclusion to draw. How anyone can rate this movie amongst the pantheon of great titles is beyond me.\n",
    "\n",
    "So trying to find something constructive to say about this title is hard...I enjoyed Iron Man? Tony Stark is an inspirational character in his own movies but here he is a pale shadow of that...About the only 'hook' this movie had into me was wondering when and if Iron Man would knock Captain America out...Oh how I wished he had :( What were these other characters anyways? Useless, bickering idiots who really couldn't organise happy times in a brewery. The film was a chaotic mish mash of action elements and failed 'set pieces'...\n",
    "\n",
    "I found the villain to be quite amusing.\n",
    "\n",
    "And now I give up. This movie is not robbing any more of my time but I felt I ought to contribute to restoring the obvious fake rating and reviews this movie has been getting on IMDb.\"\"\"\n",
    "f1 = clean(rev)\n",
    "f2 = is_special(f1)\n",
    "f3 = to_lower(f2)\n",
    "f4 = rem_stopwords(f3)\n",
    "f5 = stem_txt(f4)\n",
    "\n",
    "bow,words = [],word_tokenize(f5)\n",
    "for word in words:\n",
    "    bow.append(words.count(word))\n",
    "#np.array(bow).reshape(1,3000)\n",
    "#bow.shape\n",
    "word_dict = cv.vocabulary_\n",
    "pickle.dump(word_dict,open('bow.pkl','wb'))"
   ]
  },
  {
   "cell_type": "code",
   "execution_count": 190,
   "metadata": {},
   "outputs": [],
   "source": [
    "inp = []\n",
    "for i in word_dict:\n",
    "    inp.append(f5.count(i[0]))\n",
    "y_pred = bnb.predict(np.array(inp).reshape(1,1000))"
   ]
  },
  {
   "cell_type": "code",
   "execution_count": 191,
   "metadata": {},
   "outputs": [
    {
     "name": "stdout",
     "output_type": "stream",
     "text": [
      "[0]\n"
     ]
    }
   ],
   "source": [
    "print(y_pred)"
   ]
  }
 ],
 "metadata": {
  "kernelspec": {
   "display_name": "Python 3",
   "language": "python",
   "name": "python3"
  },
  "language_info": {
   "codemirror_mode": {
    "name": "ipython",
    "version": 3
   },
   "file_extension": ".py",
   "mimetype": "text/x-python",
   "name": "python",
   "nbconvert_exporter": "python",
   "pygments_lexer": "ipython3",
   "version": "3.7.0"
  }
 },
 "nbformat": 4,
 "nbformat_minor": 2
}
